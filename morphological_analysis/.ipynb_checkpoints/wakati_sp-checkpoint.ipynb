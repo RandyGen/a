{
 "cells": [
  {
   "cell_type": "code",
   "execution_count": 1,
   "id": "thermal-spanking",
   "metadata": {},
   "outputs": [],
   "source": [
    "import spacy"
   ]
  },
  {
   "cell_type": "code",
   "execution_count": 2,
   "id": "extensive-mouse",
   "metadata": {},
   "outputs": [],
   "source": [
    "nlp = spacy.load('ja_ginza')\n",
    "doc = nlp('銀座でランチをご一緒しましょう。')"
   ]
  },
  {
   "cell_type": "code",
   "execution_count": 3,
   "id": "apparent-pearl",
   "metadata": {},
   "outputs": [
    {
     "name": "stdout",
     "output_type": "stream",
     "text": [
      "0, 銀座, 銀座, PROPN ,名詞-固有名詞-地名-一般\n",
      "1, で, で, ADP ,助詞-格助詞\n",
      "2, ランチ, ランチ, NOUN ,名詞-普通名詞-一般\n",
      "3, を, を, ADP ,助詞-格助詞\n",
      "4, ご, ご, NOUN ,接頭辞\n",
      "5, 一緒, 一緒, VERB ,名詞-普通名詞-サ変可能\n",
      "6, し, する, AUX ,動詞-非自立可能\n",
      "7, ましょう, ます, AUX ,助動詞\n",
      "8, 。, 。, PUNCT ,補助記号-句点\n"
     ]
    }
   ],
   "source": [
    "# レンマと品詞の抽出\n",
    "for sent in doc.sents:\n",
    "    for token in sent:\n",
    "        print(\n",
    "            str(token.i)+', '+ # トークン番号\n",
    "            token.text+', '+ # テキスト\n",
    "            token.lemma_+', '+ # レンマ            \n",
    "            token.pos_+' ,'+ # 品詞\n",
    "            token.tag_) # 品詞詳細"
   ]
  }
 ],
 "metadata": {
  "kernelspec": {
   "display_name": "Python 3",
   "language": "python",
   "name": "python3"
  },
  "language_info": {
   "codemirror_mode": {
    "name": "ipython",
    "version": 3
   },
   "file_extension": ".py",
   "mimetype": "text/x-python",
   "name": "python",
   "nbconvert_exporter": "python",
   "pygments_lexer": "ipython3",
   "version": "3.9.1"
  }
 },
 "nbformat": 4,
 "nbformat_minor": 5
}
