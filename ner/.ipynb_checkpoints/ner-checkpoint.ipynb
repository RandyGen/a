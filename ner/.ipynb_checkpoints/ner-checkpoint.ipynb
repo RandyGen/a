{
 "cells": [
  {
   "cell_type": "code",
   "execution_count": 1,
   "id": "chinese-evolution",
   "metadata": {},
   "outputs": [],
   "source": [
    "import spacy\n",
    "from spacy import displacy"
   ]
  },
  {
   "cell_type": "code",
   "execution_count": 2,
   "id": "driven-witness",
   "metadata": {},
   "outputs": [],
   "source": [
    "nlp = spacy.load('ja_ginza')\n",
    "doc = nlp('山田さんと銀座でランチをご一緒しましょう。')"
   ]
  },
  {
   "cell_type": "code",
   "execution_count": 3,
   "id": "pretty-dakota",
   "metadata": {},
   "outputs": [
    {
     "name": "stdout",
     "output_type": "stream",
     "text": [
      "山田,Person,0,2\n",
      "さん,Title_Other,2,4\n",
      "銀座,City,5,7\n"
     ]
    }
   ],
   "source": [
    "# 固有表現抽出\n",
    "for ent in doc.ents:\n",
    "    print(\n",
    "        ent.text+','+ # テキスト\n",
    "        ent.label_+','+ # ラベル\n",
    "        str(ent.start_char)+','+ # 開始位置\n",
    "        str(ent.end_char)) # 終了位置"
   ]
  },
  {
   "cell_type": "code",
   "execution_count": 4,
   "id": "hollow-uniform",
   "metadata": {},
   "outputs": [
    {
     "data": {
      "text/html": [
       "<span class=\"tex2jax_ignore\"><div class=\"entities\" style=\"line-height: 2.5; direction: ltr\">\n",
       "<mark class=\"entity\" style=\"background: #aa9cfc; padding: 0.45em 0.6em; margin: 0 0.25em; line-height: 1; border-radius: 0.35em;\">\n",
       "    山田\n",
       "    <span style=\"font-size: 0.8em; font-weight: bold; line-height: 1; border-radius: 0.35em; text-transform: uppercase; vertical-align: middle; margin-left: 0.5rem\">Person</span>\n",
       "</mark>\n",
       "\n",
       "<mark class=\"entity\" style=\"background: #ddd; padding: 0.45em 0.6em; margin: 0 0.25em; line-height: 1; border-radius: 0.35em;\">\n",
       "    さん\n",
       "    <span style=\"font-size: 0.8em; font-weight: bold; line-height: 1; border-radius: 0.35em; text-transform: uppercase; vertical-align: middle; margin-left: 0.5rem\">Title_Other</span>\n",
       "</mark>\n",
       "と\n",
       "<mark class=\"entity\" style=\"background: #ddd; padding: 0.45em 0.6em; margin: 0 0.25em; line-height: 1; border-radius: 0.35em;\">\n",
       "    銀座\n",
       "    <span style=\"font-size: 0.8em; font-weight: bold; line-height: 1; border-radius: 0.35em; text-transform: uppercase; vertical-align: middle; margin-left: 0.5rem\">City</span>\n",
       "</mark>\n",
       "でランチをご一緒しましょう。</div></span>"
      ],
      "text/plain": [
       "<IPython.core.display.HTML object>"
      ]
     },
     "metadata": {},
     "output_type": "display_data"
    }
   ],
   "source": [
    "# 強調表示\n",
    "displacy.render(doc, style='ent', jupyter=True, options={'distance': 90})"
   ]
  },
  {
   "cell_type": "code",
   "execution_count": null,
   "id": "blessed-prior",
   "metadata": {},
   "outputs": [],
   "source": []
  }
 ],
 "metadata": {
  "kernelspec": {
   "display_name": "Python 3",
   "language": "python",
   "name": "python3"
  },
  "language_info": {
   "codemirror_mode": {
    "name": "ipython",
    "version": 3
   },
   "file_extension": ".py",
   "mimetype": "text/x-python",
   "name": "python",
   "nbconvert_exporter": "python",
   "pygments_lexer": "ipython3",
   "version": "3.9.1"
  }
 },
 "nbformat": 4,
 "nbformat_minor": 5
}
