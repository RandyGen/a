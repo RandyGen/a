{
 "cells": [
  {
   "cell_type": "code",
   "execution_count": 1,
   "id": "spanish-worst",
   "metadata": {},
   "outputs": [],
   "source": [
    "import spacy\n",
    "from spacy import displacy"
   ]
  },
  {
   "cell_type": "code",
   "execution_count": 2,
   "id": "nervous-adolescent",
   "metadata": {},
   "outputs": [],
   "source": [
    "nlp = spacy.load('ja_ginza')\n",
    "doc = nlp('吾輩は猫である。')"
   ]
  },
  {
   "cell_type": "code",
   "execution_count": 3,
   "id": "chicken-hands",
   "metadata": {},
   "outputs": [
    {
     "name": "stdout",
     "output_type": "stream",
     "text": [
      "猫,Mammal,3,4\n"
     ]
    }
   ],
   "source": [
    "# 固有表現抽出\n",
    "for ent in doc.ents:\n",
    "    print(\n",
    "        ent.text+','+ # テキスト\n",
    "        ent.label_+','+ # ラベル\n",
    "        str(ent.start_char)+','+ # 開始位置\n",
    "        str(ent.end_char)) # 終了位置"
   ]
  },
  {
   "cell_type": "code",
   "execution_count": 4,
   "id": "recovered-disclaimer",
   "metadata": {},
   "outputs": [
    {
     "data": {
      "text/html": [
       "<span class=\"tex2jax_ignore\"><div class=\"entities\" style=\"line-height: 2.5; direction: ltr\">吾輩は\n",
       "<mark class=\"entity\" style=\"background: #ddd; padding: 0.45em 0.6em; margin: 0 0.25em; line-height: 1; border-radius: 0.35em;\">\n",
       "    猫\n",
       "    <span style=\"font-size: 0.8em; font-weight: bold; line-height: 1; border-radius: 0.35em; text-transform: uppercase; vertical-align: middle; margin-left: 0.5rem\">Mammal</span>\n",
       "</mark>\n",
       "である。</div></span>"
      ],
      "text/plain": [
       "<IPython.core.display.HTML object>"
      ]
     },
     "metadata": {},
     "output_type": "display_data"
    }
   ],
   "source": [
    "# 強調表示\n",
    "displacy.render(doc, style='ent', jupyter=True, options={'distance': 90})"
   ]
  },
  {
   "cell_type": "code",
   "execution_count": null,
   "id": "parliamentary-expression",
   "metadata": {},
   "outputs": [],
   "source": []
  }
 ],
 "metadata": {
  "kernelspec": {
   "display_name": "Python 3",
   "language": "python",
   "name": "python3"
  },
  "language_info": {
   "codemirror_mode": {
    "name": "ipython",
    "version": 3
   },
   "file_extension": ".py",
   "mimetype": "text/x-python",
   "name": "python",
   "nbconvert_exporter": "python",
   "pygments_lexer": "ipython3",
   "version": "3.9.1"
  }
 },
 "nbformat": 4,
 "nbformat_minor": 5
}
